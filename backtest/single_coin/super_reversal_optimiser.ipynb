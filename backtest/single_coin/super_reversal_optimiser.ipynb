{
 "cells": [
  {
   "cell_type": "code",
   "execution_count": 10,
   "metadata": {},
   "outputs": [],
   "source": [
    "import sys\n",
    "sys.path.append('../..')\n",
    "from utilities.get_data import get_historical_from_db\n",
    "from utilities.backtesting import basic_single_asset_backtest, plot_wallet_vs_asset, get_metrics, get_n_columns, plot_sharpe_evolution, plot_bar_by_month\n",
    "from utilities.custom_indicators import SuperTrend\n",
    "from math import *\n",
    "from IPython.display import clear_output\n",
    "import pandas as pd\n",
    "pd.options.mode.chained_assignment = None  # default='warn'\n",
    "import ccxt\n",
    "import matplotlib.pyplot as plt\n",
    "import ta\n",
    "import numpy as np"
   ]
  },
  {
   "cell_type": "code",
   "execution_count": 11,
   "metadata": {},
   "outputs": [],
   "source": [
    "class super_reversion_strat():\n",
    "    def __init__(\n",
    "        self,\n",
    "        df,\n",
    "        st_short_atr_window = 6,\n",
    "        st_short_atr_multiplier = 19,\n",
    "        short_ema_window = 39,\n",
    "        long_ema_window = 420,\n",
    "    ):\n",
    "        self.df = df\n",
    "        self.st_short_atr_window = st_short_atr_window\n",
    "        self.st_short_atr_multiplier = st_short_atr_multiplier\n",
    "        self.short_ema_window = short_ema_window\n",
    "        self.long_ema_window = long_ema_window\n",
    "        \n",
    "    def populate_indicators(self, show_log=False):\n",
    "        # -- Clear dataset --\n",
    "        df = self.df\n",
    "        df.drop(columns=df.columns.difference(['open','high','low','close','volume']), inplace=True)\n",
    "        \n",
    "        # -- Populate indicators --\n",
    "        super_trend = SuperTrend(\n",
    "            df['high'], \n",
    "            df['low'], \n",
    "            df['close'], \n",
    "            self.st_short_atr_window, \n",
    "            self.st_short_atr_multiplier\n",
    "        )\n",
    "        \n",
    "        df['super_trend_direction'] = super_trend.super_trend_direction()\n",
    "        df['ema_short'] = ta.trend.ema_indicator(close=df['close'], window=self.short_ema_window)\n",
    "        df['ema_long'] = ta.trend.ema_indicator(close=df['close'], window=self.long_ema_window)\n",
    "        \n",
    "        df = get_n_columns(df, [\"super_trend_direction\", \"ema_short\", \"ema_long\"], 1)\n",
    "        \n",
    "        # -- Log --\n",
    "        if(show_log):\n",
    "            print(df)\n",
    "        \n",
    "        self.df = df    \n",
    "        return self.df\n",
    "    \n",
    "    def populate_buy_sell(self, show_log=False): \n",
    "        df = self.df\n",
    "        # -- Initiate populate --\n",
    "        df[\"open_long_limit\"] = False\n",
    "        df[\"close_long_limit\"] = False\n",
    "        \n",
    "        # -- Populate open long limit --\n",
    "        df.loc[\n",
    "            (df['n1_ema_short'] >= df['n1_ema_long']) \n",
    "            & (df['n1_super_trend_direction'] == True) \n",
    "            & (df['n1_ema_short'] > df['low']) \n",
    "            , \"open_long_limit\"\n",
    "        ] = True\n",
    "        \n",
    "        # -- Populate close long limit --\n",
    "        df.loc[\n",
    "            ((df['n1_ema_short'] <= df['n1_ema_long'])\n",
    "            | (df['n1_super_trend_direction'] == False))\n",
    "            & (df['n1_ema_short'] < df['high'])\n",
    "            , \"close_long_limit\"\n",
    "        ] = True\n",
    "        \n",
    "        # -- Log --\n",
    "        if(show_log):\n",
    "            print(\"Open LONG length :\",len(df.loc[df[\"open_long_limit\"]==True]))\n",
    "            print(\"Close LONG length :\",len(df.loc[df[\"close_long_limit\"]==True]))\n",
    "        \n",
    "        self.df = df   \n",
    "        return self.df\n",
    "        \n",
    "    def run_backtest(self, initial_wallet=1000, return_type=\"metrics\"):\n",
    "        dt = self.df['2021-06-01':]\n",
    "        wallet = initial_wallet\n",
    "        maker_fee = 0\n",
    "        taker_fee = 0.0007\n",
    "        trades = []\n",
    "        days = []\n",
    "        current_day = 0\n",
    "        previous_day = 0\n",
    "        current_position = None\n",
    "        \n",
    "        for index, row in dt.iterrows():\n",
    "            \n",
    "            # -- Add daily report --\n",
    "            current_day = index.day\n",
    "            if previous_day != current_day:\n",
    "                temp_wallet = wallet\n",
    "                if current_position:\n",
    "                    if current_position['side'] == \"LONG\":\n",
    "                        close_price = row['close']\n",
    "                        trade_result = (close_price - current_position['price']) / current_position['price']\n",
    "                        temp_wallet += temp_wallet * trade_result\n",
    "                        fee = temp_wallet * taker_fee\n",
    "                        temp_wallet -= fee\n",
    "                    \n",
    "                days.append({\n",
    "                    \"day\":str(index.year)+\"-\"+str(index.month)+\"-\"+str(index.day),\n",
    "                    \"wallet\":temp_wallet,\n",
    "                    \"price\":row['close']\n",
    "                })\n",
    "            previous_day = current_day\n",
    "\n",
    "            if current_position:\n",
    "            # -- Check for closing position --\n",
    "                if current_position['side'] == \"LONG\":                     \n",
    "\n",
    "                    # -- Close LONG limit --\n",
    "                    if row['close_long_limit']:\n",
    "                        close_price = row['n1_ema_short']\n",
    "                        trade_result = (close_price - current_position['price']) / current_position['price']\n",
    "                        wallet += wallet * trade_result\n",
    "                        fee = wallet * maker_fee\n",
    "                        wallet -= fee\n",
    "                        trades.append({\n",
    "                            \"open_date\": current_position['date'],\n",
    "                            \"close_date\": index,\n",
    "                            \"position\": \"LONG\",\n",
    "                            \"open_reason\": current_position['reason'],\n",
    "                            \"close_reason\": \"Limit\",\n",
    "                            \"open_price\": current_position['price'],\n",
    "                            \"close_price\": close_price,\n",
    "                            \"open_fee\": current_position['fee'],\n",
    "                            \"close_fee\": fee,\n",
    "                            \"open_trade_size\":current_position['size'],\n",
    "                            \"close_trade_size\": wallet,\n",
    "                            \"wallet\": wallet\n",
    "                        })\n",
    "                        current_position = None\n",
    "\n",
    "            # -- Check for opening position --\n",
    "            else:\n",
    "                # Open LONG limit\n",
    "                if row['open_long_limit']:\n",
    "                    open_price = row['n1_ema_short']\n",
    "                    fee = wallet * maker_fee\n",
    "                    wallet -= fee\n",
    "                    pos_size = wallet\n",
    "                    current_position = {\n",
    "                        \"size\": pos_size,\n",
    "                        \"date\": index,\n",
    "                        \"price\": open_price,\n",
    "                        \"fee\":fee,\n",
    "                        \"reason\": \"Limit\",\n",
    "                        \"side\": \"LONG\"\n",
    "                    }\n",
    "                    \n",
    "                    \n",
    "        df_days = pd.DataFrame(days)\n",
    "        df_days['day'] = pd.to_datetime(df_days['day'])\n",
    "        df_days = df_days.set_index(df_days['day'])\n",
    "\n",
    "        df_trades = pd.DataFrame(trades)\n",
    "        df_trades['open_date'] = pd.to_datetime(df_trades['open_date'])\n",
    "        df_trades = df_trades.set_index(df_trades['open_date'])   \n",
    "        \n",
    "        if return_type == \"metrics\":\n",
    "            return get_metrics(df_trades, df_days) | {\n",
    "                \"wallet\": wallet,\n",
    "                \"trades\": df_trades,\n",
    "                \"days\": df_days\n",
    "            }  \n",
    "        else:\n",
    "            return True   \n",
    "        "
   ]
  },
  {
   "cell_type": "code",
   "execution_count": 12,
   "metadata": {},
   "outputs": [],
   "source": [
    "pair = \"BTC/USDT\"\n",
    "tf = \"1h\"\n",
    "\n",
    "df = get_historical_from_db(\n",
    "    ccxt.binance(), \n",
    "    pair,\n",
    "    tf,\n",
    "    path=\"../../database/\"\n",
    ")"
   ]
  },
  {
   "cell_type": "markdown",
   "metadata": {},
   "source": [
    "1 - Optimizer"
   ]
  },
  {
   "cell_type": "code",
   "execution_count": 13,
   "metadata": {},
   "outputs": [
    {
     "name": "stdout",
     "output_type": "stream",
     "text": [
      "Loading... 19 / 19\n",
      "1240.0688430954413\n"
     ]
    },
    {
     "data": {
      "image/png": "[encoded data removed]",
      "text/plain": [
       "<Figure size 576x432 with 2 Axes>"
      ]
     },
     "metadata": {
      "needs_background": "light"
     },
     "output_type": "display_data"
    },
    {
     "name": "stdout",
     "output_type": "stream",
     "text": [
      "4.0\n"
     ]
    }
   ],
   "source": [
    "dt = None\n",
    "dt = pd.DataFrame(columns = ['atr_window', 'result'])\n",
    "\n",
    "loopI = [1,20,1]\n",
    "enumI = ceil((loopI[1] - loopI[0]) / loopI[2])\n",
    "\n",
    "count = 0\n",
    "maxCount = enumI\n",
    "\n",
    "for i in range(loopI[0], loopI[1], loopI[2]):\n",
    "    clear_output(wait=True)\n",
    "    count += 1\n",
    "    print(\"Loading...\",count,'/',maxCount)\n",
    "    \n",
    "    strat = super_reversion_strat(\n",
    "        df = df.loc[:],\n",
    "        st_short_atr_window=i\n",
    "    )\n",
    "\n",
    "    strat.populate_indicators()\n",
    "    strat.populate_buy_sell(show_log=False)\n",
    "    bt_result = strat.run_backtest(initial_wallet=1000, return_type=\"metrics\")\n",
    "    \n",
    "    print(bt_result['wallet'])\n",
    "    \n",
    "    myrow = {'atr_window': i, 'result': bt_result['wallet']}\n",
    "    dt = dt.append(myrow,ignore_index=True)   \n",
    "# df_trades, df_days = basic_single_asset_backtest(trades=bt_result['trades'], days=bt_result['days'])\n",
    "# plot_wallet_vs_asset(df_days=df_days)\n",
    "dt.sort_values(by=['result'], inplace=True)\n",
    "dt.plot.scatter(x='atr_window',y=1,c='result',s=50,colormap='OrRd',figsize=(8,6))\n",
    "plt.show()\n",
    "final_st_short_atr_window = dt.iloc[-1:].atr_window.tolist()[0]\n",
    "print(dt.iloc[-1:].atr_window.tolist()[0])\n",
    "\n",
    "# 1596.13"
   ]
  },
  {
   "cell_type": "markdown",
   "metadata": {},
   "source": [
    "2 - Optimizer"
   ]
  },
  {
   "cell_type": "code",
   "execution_count": 14,
   "metadata": {},
   "outputs": [
    {
     "name": "stdout",
     "output_type": "stream",
     "text": [
      "Loading... 20 / 20\n",
      "1277.5762817083269\n"
     ]
    },
    {
     "data": {
      "image/png": "[encoded data removed]",
      "text/plain": [
       "<Figure size 576x432 with 2 Axes>"
      ]
     },
     "metadata": {
      "needs_background": "light"
     },
     "output_type": "display_data"
    },
    {
     "name": "stdout",
     "output_type": "stream",
     "text": [
      "[19.0]\n"
     ]
    }
   ],
   "source": [
    "dt = None\n",
    "dt = pd.DataFrame(columns = ['atr_multiplier', 'result'])\n",
    "\n",
    "loopI = [10,30,1]\n",
    "enumI = ceil((loopI[1] - loopI[0]) / loopI[2])\n",
    "\n",
    "count = 0\n",
    "maxCount = enumI\n",
    "\n",
    "for i in range(loopI[0], loopI[1], loopI[2]):\n",
    "    clear_output(wait=True)\n",
    "    count += 1\n",
    "    print(\"Loading...\",count,'/',maxCount)\n",
    "    \n",
    "    strat = super_reversion_strat(\n",
    "        df = df.loc[:],\n",
    "        st_short_atr_window = final_st_short_atr_window,\n",
    "        st_short_atr_multiplier=i\n",
    "    )\n",
    "\n",
    "    strat.populate_indicators()\n",
    "    strat.populate_buy_sell(show_log=False)\n",
    "    bt_result = strat.run_backtest(initial_wallet=1000, return_type=\"metrics\")\n",
    "    \n",
    "    print(bt_result['wallet'])\n",
    "    \n",
    "    myrow = {'atr_multiplier': i, 'result': bt_result['wallet']}\n",
    "    dt = dt.append(myrow,ignore_index=True)   \n",
    "# df_trades, df_days = basic_single_asset_backtest(trades=bt_result['trades'], days=bt_result['days'])\n",
    "# plot_wallet_vs_asset(df_days=df_days)\n",
    "dt.sort_values(by=['result'], inplace=True)\n",
    "dt.plot.scatter(x='atr_multiplier',y=1,c='result',s=50,colormap='OrRd',figsize=(8,6))\n",
    "plt.show()\n",
    "final_st_short_atr_multiplier = dt.iloc[-1:].atr_multiplier.tolist()[0]\n",
    "print(dt.iloc[-1:].atr_multiplier.tolist())\n",
    "\n",
    "# 1596.13"
   ]
  },
  {
   "cell_type": "markdown",
   "metadata": {},
   "source": [
    "3 - Optimizer"
   ]
  },
  {
   "cell_type": "code",
   "execution_count": 15,
   "metadata": {},
   "outputs": [
    {
     "name": "stdout",
     "output_type": "stream",
     "text": [
      "Loading... 49 / 49\n",
      "1404.5116927283898\n"
     ]
    },
    {
     "data": {
      "image/png": "[encoded data removed]",
      "text/plain": [
       "<Figure size 576x432 with 2 Axes>"
      ]
     },
     "metadata": {
      "needs_background": "light"
     },
     "output_type": "display_data"
    },
    {
     "name": "stdout",
     "output_type": "stream",
     "text": [
      "    short_ema_window       result\n",
      "38              39.0  1621.608318\n"
     ]
    }
   ],
   "source": [
    "dt = None\n",
    "dt = pd.DataFrame(columns = ['short_ema_window', 'result'])\n",
    "\n",
    "loopI = [1,50,1]\n",
    "enumI = ceil((loopI[1] - loopI[0]) / loopI[2])\n",
    "\n",
    "count = 0\n",
    "maxCount = enumI\n",
    "\n",
    "for i in range(loopI[0], loopI[1], loopI[2]):\n",
    "    clear_output(wait=True)\n",
    "    count += 1\n",
    "    print(\"Loading...\",count,'/',maxCount)\n",
    "    \n",
    "    strat = super_reversion_strat(\n",
    "        df = df.loc[:],\n",
    "        st_short_atr_window = final_st_short_atr_window,\n",
    "        st_short_atr_multiplier = final_st_short_atr_multiplier,\n",
    "        short_ema_window=i\n",
    "    )\n",
    "\n",
    "    strat.populate_indicators()\n",
    "    strat.populate_buy_sell(show_log=False)\n",
    "    bt_result = strat.run_backtest(initial_wallet=1000, return_type=\"metrics\")\n",
    "    \n",
    "    print(bt_result['wallet'])\n",
    "    \n",
    "    myrow = {'short_ema_window': i, 'result': bt_result['wallet']}\n",
    "    dt = dt.append(myrow,ignore_index=True)   \n",
    "# df_trades, df_days = basic_single_asset_backtest(trades=bt_result['trades'], days=bt_result['days'])\n",
    "# plot_wallet_vs_asset(df_days=df_days)\n",
    "dt.sort_values(by=['result'], inplace=True)\n",
    "dt.plot.scatter(x='short_ema_window',y=1,c='result',s=50,colormap='OrRd',figsize=(8,6))\n",
    "plt.show()\n",
    "final_short_ema_window = dt.iloc[-1:].short_ema_window.tolist()[0]\n",
    "print(dt.iloc[-1:])"
   ]
  },
  {
   "cell_type": "markdown",
   "metadata": {},
   "source": [
    "4 - Optimizer"
   ]
  },
  {
   "cell_type": "code",
   "execution_count": 16,
   "metadata": {},
   "outputs": [
    {
     "name": "stdout",
     "output_type": "stream",
     "text": [
      "Loading... 30 / 60\n"
     ]
    }
   ],
   "source": [
    "dt = None\n",
    "dt = pd.DataFrame(columns = ['long_ema_window', 'result'])\n",
    "\n",
    "loopI = [400,1000,10]\n",
    "enumI = ceil((loopI[1] - loopI[0]) / loopI[2])\n",
    "\n",
    "count = 0\n",
    "maxCount = enumI\n",
    "\n",
    "for i in range(loopI[0], loopI[1], loopI[2]):\n",
    "    clear_output(wait=True)\n",
    "    count += 1\n",
    "    print(\"Loading...\",count,'/',maxCount)\n",
    "    \n",
    "    strat = super_reversion_strat(\n",
    "        df = df.loc[:],\n",
    "        st_short_atr_window = final_st_short_atr_window,\n",
    "        st_short_atr_multiplier = final_st_short_atr_multiplier,\n",
    "        short_ema_window=final_short_ema_window,\n",
    "        long_ema_window=i\n",
    "    )\n",
    "\n",
    "    strat.populate_indicators()\n",
    "    strat.populate_buy_sell(show_log=False)\n",
    "    bt_result = strat.run_backtest(initial_wallet=1000, return_type=\"metrics\")\n",
    "    \n",
    "    print(bt_result['wallet'])\n",
    "    \n",
    "    myrow = {'long_ema_window': i, 'result': bt_result['wallet']}\n",
    "    dt = dt.append(myrow,ignore_index=True)   \n",
    "# df_trades, df_days = basic_single_asset_backtest(trades=bt_result['trades'], days=bt_result['days'])\n",
    "# plot_wallet_vs_asset(df_days=df_days)\n",
    "dt.sort_values(by=['result'], inplace=True)\n",
    "dt.plot.scatter(x='long_ema_window',y=1,c='result',s=50,colormap='OrRd',figsize=(8,6))\n",
    "plt.show()\n",
    "final_long_ema_window = dt.iloc[-1:].long_ema_window.tolist()[0]\n",
    "print(dt.iloc[-1:].long_ema_window.tolist())"
   ]
  },
  {
   "cell_type": "code",
   "execution_count": null,
   "metadata": {},
   "outputs": [
    {
     "ename": "NameError",
     "evalue": "name 'final_st_short_atr_window' is not defined",
     "output_type": "error",
     "traceback": [
      "\u001b[0;31m---------------------------------------------------------------------------\u001b[0m",
      "\u001b[0;31mNameError\u001b[0m                                 Traceback (most recent call last)",
      "\u001b[0;32m/var/folders/p8/9tmcbqn10_l75b9_nsdx04lm0000gn/T/ipykernel_5804/3830564990.py\u001b[0m in \u001b[0;36m<module>\u001b[0;34m\u001b[0m\n\u001b[0;32m----> 1\u001b[0;31m \u001b[0mprint\u001b[0m\u001b[0;34m(\u001b[0m\u001b[0mfinal_st_short_atr_window\u001b[0m\u001b[0;34m)\u001b[0m\u001b[0;34m\u001b[0m\u001b[0;34m\u001b[0m\u001b[0m\n\u001b[0m\u001b[1;32m      2\u001b[0m \u001b[0mprint\u001b[0m\u001b[0;34m(\u001b[0m\u001b[0mfinal_st_short_atr_multiplier\u001b[0m\u001b[0;34m)\u001b[0m\u001b[0;34m\u001b[0m\u001b[0;34m\u001b[0m\u001b[0m\n\u001b[1;32m      3\u001b[0m \u001b[0mprint\u001b[0m\u001b[0;34m(\u001b[0m\u001b[0mfinal_short_ema_window\u001b[0m\u001b[0;34m)\u001b[0m\u001b[0;34m\u001b[0m\u001b[0;34m\u001b[0m\u001b[0m\n\u001b[1;32m      4\u001b[0m \u001b[0mprint\u001b[0m\u001b[0;34m(\u001b[0m\u001b[0mfinal_long_ema_window\u001b[0m\u001b[0;34m)\u001b[0m\u001b[0;34m\u001b[0m\u001b[0;34m\u001b[0m\u001b[0m\n",
      "\u001b[0;31mNameError\u001b[0m: name 'final_st_short_atr_window' is not defined"
     ]
    }
   ],
   "source": [
    "print(final_st_short_atr_window)\n",
    "print(final_st_short_atr_multiplier)\n",
    "print(final_short_ema_window)\n",
    "print(final_long_ema_window)"
   ]
  },
  {
   "cell_type": "markdown",
   "metadata": {},
   "source": [
    "Full - Optimizer"
   ]
  },
  {
   "cell_type": "code",
   "execution_count": 9,
   "metadata": {},
   "outputs": [
    {
     "name": "stdout",
     "output_type": "stream",
     "text": [
      "Loading... 7 / 1117200\n"
     ]
    },
    {
     "ename": "KeyboardInterrupt",
     "evalue": "",
     "output_type": "error",
     "traceback": [
      "\u001b[0;31m---------------------------------------------------------------------------\u001b[0m",
      "\u001b[0;31mTypeError\u001b[0m                                 Traceback (most recent call last)",
      "\u001b[0;32m~/.pyenv/versions/3.10.0/envs/cbot/lib/python3.10/site-packages/pandas/_libs/index.pyx\u001b[0m in \u001b[0;36mpandas._libs.index.DatetimeEngine.get_loc\u001b[0;34m()\u001b[0m\n",
      "\u001b[0;32m~/.pyenv/versions/3.10.0/envs/cbot/lib/python3.10/site-packages/pandas/_libs/index.pyx\u001b[0m in \u001b[0;36mpandas._libs.index.DatetimeEngine._unbox_scalar\u001b[0;34m()\u001b[0m\n",
      "\u001b[0;31mTypeError\u001b[0m: 17855",
      "\nDuring handling of the above exception, another exception occurred:\n",
      "\u001b[0;31mKeyError\u001b[0m                                  Traceback (most recent call last)",
      "\u001b[0;32m~/.pyenv/versions/3.10.0/envs/cbot/lib/python3.10/site-packages/pandas/core/series.py\u001b[0m in \u001b[0;36m__setitem__\u001b[0;34m(self, key, value)\u001b[0m\n\u001b[1;32m   1061\u001b[0m         \u001b[0;32mtry\u001b[0m\u001b[0;34m:\u001b[0m\u001b[0;34m\u001b[0m\u001b[0;34m\u001b[0m\u001b[0m\n\u001b[0;32m-> 1062\u001b[0;31m             \u001b[0mself\u001b[0m\u001b[0;34m.\u001b[0m\u001b[0m_set_with_engine\u001b[0m\u001b[0;34m(\u001b[0m\u001b[0mkey\u001b[0m\u001b[0;34m,\u001b[0m \u001b[0mvalue\u001b[0m\u001b[0;34m)\u001b[0m\u001b[0;34m\u001b[0m\u001b[0;34m\u001b[0m\u001b[0m\n\u001b[0m\u001b[1;32m   1063\u001b[0m         \u001b[0;32mexcept\u001b[0m \u001b[0;34m(\u001b[0m\u001b[0mKeyError\u001b[0m\u001b[0;34m,\u001b[0m \u001b[0mValueError\u001b[0m\u001b[0;34m)\u001b[0m\u001b[0;34m:\u001b[0m\u001b[0;34m\u001b[0m\u001b[0;34m\u001b[0m\u001b[0m\n",
      "\u001b[0;32m~/.pyenv/versions/3.10.0/envs/cbot/lib/python3.10/site-packages/pandas/core/series.py\u001b[0m in \u001b[0;36m_set_with_engine\u001b[0;34m(self, key, value)\u001b[0m\n\u001b[1;32m   1094\u001b[0m         \u001b[0;31m# fails with AttributeError for IntervalIndex\u001b[0m\u001b[0;34m\u001b[0m\u001b[0;34m\u001b[0m\u001b[0m\n\u001b[0;32m-> 1095\u001b[0;31m         \u001b[0mloc\u001b[0m \u001b[0;34m=\u001b[0m \u001b[0mself\u001b[0m\u001b[0;34m.\u001b[0m\u001b[0mindex\u001b[0m\u001b[0;34m.\u001b[0m\u001b[0m_engine\u001b[0m\u001b[0;34m.\u001b[0m\u001b[0mget_loc\u001b[0m\u001b[0;34m(\u001b[0m\u001b[0mkey\u001b[0m\u001b[0;34m)\u001b[0m\u001b[0;34m\u001b[0m\u001b[0;34m\u001b[0m\u001b[0m\n\u001b[0m\u001b[1;32m   1096\u001b[0m         \u001b[0;31m# error: Argument 1 to \"validate_numeric_casting\" has incompatible type\u001b[0m\u001b[0;34m\u001b[0m\u001b[0;34m\u001b[0m\u001b[0m\n",
      "\u001b[0;32m~/.pyenv/versions/3.10.0/envs/cbot/lib/python3.10/site-packages/pandas/_libs/index.pyx\u001b[0m in \u001b[0;36mpandas._libs.index.DatetimeEngine.get_loc\u001b[0;34m()\u001b[0m\n",
      "\u001b[0;32m~/.pyenv/versions/3.10.0/envs/cbot/lib/python3.10/site-packages/pandas/_libs/index.pyx\u001b[0m in \u001b[0;36mpandas._libs.index.DatetimeEngine.get_loc\u001b[0;34m()\u001b[0m\n",
      "\u001b[0;31mKeyError\u001b[0m: 17855",
      "\nDuring handling of the above exception, another exception occurred:\n",
      "\u001b[0;31mKeyboardInterrupt\u001b[0m                         Traceback (most recent call last)",
      "\u001b[0;32m/var/folders/p8/9tmcbqn10_l75b9_nsdx04lm0000gn/T/ipykernel_5804/2648560250.py\u001b[0m in \u001b[0;36m<module>\u001b[0;34m\u001b[0m\n\u001b[1;32m     33\u001b[0m                 )\n\u001b[1;32m     34\u001b[0m \u001b[0;34m\u001b[0m\u001b[0m\n\u001b[0;32m---> 35\u001b[0;31m                 \u001b[0mstrat\u001b[0m\u001b[0;34m.\u001b[0m\u001b[0mpopulate_indicators\u001b[0m\u001b[0;34m(\u001b[0m\u001b[0;34m)\u001b[0m\u001b[0;34m\u001b[0m\u001b[0;34m\u001b[0m\u001b[0m\n\u001b[0m\u001b[1;32m     36\u001b[0m                 \u001b[0mstrat\u001b[0m\u001b[0;34m.\u001b[0m\u001b[0mpopulate_buy_sell\u001b[0m\u001b[0;34m(\u001b[0m\u001b[0mshow_log\u001b[0m\u001b[0;34m=\u001b[0m\u001b[0;32mFalse\u001b[0m\u001b[0;34m)\u001b[0m\u001b[0;34m\u001b[0m\u001b[0;34m\u001b[0m\u001b[0m\n\u001b[1;32m     37\u001b[0m                 \u001b[0mbt_result\u001b[0m \u001b[0;34m=\u001b[0m \u001b[0mstrat\u001b[0m\u001b[0;34m.\u001b[0m\u001b[0mrun_backtest\u001b[0m\u001b[0;34m(\u001b[0m\u001b[0minitial_wallet\u001b[0m\u001b[0;34m=\u001b[0m\u001b[0;36m1000\u001b[0m\u001b[0;34m,\u001b[0m \u001b[0mreturn_type\u001b[0m\u001b[0;34m=\u001b[0m\u001b[0;34m\"metrics\"\u001b[0m\u001b[0;34m)\u001b[0m\u001b[0;34m\u001b[0m\u001b[0;34m\u001b[0m\u001b[0m\n",
      "\u001b[0;32m/var/folders/p8/9tmcbqn10_l75b9_nsdx04lm0000gn/T/ipykernel_5804/3388607547.py\u001b[0m in \u001b[0;36mpopulate_indicators\u001b[0;34m(self, show_log)\u001b[0m\n\u001b[1;32m     20\u001b[0m \u001b[0;34m\u001b[0m\u001b[0m\n\u001b[1;32m     21\u001b[0m         \u001b[0;31m# -- Populate indicators --\u001b[0m\u001b[0;34m\u001b[0m\u001b[0;34m\u001b[0m\u001b[0m\n\u001b[0;32m---> 22\u001b[0;31m         super_trend = SuperTrend(\n\u001b[0m\u001b[1;32m     23\u001b[0m             \u001b[0mdf\u001b[0m\u001b[0;34m[\u001b[0m\u001b[0;34m'high'\u001b[0m\u001b[0;34m]\u001b[0m\u001b[0;34m,\u001b[0m\u001b[0;34m\u001b[0m\u001b[0;34m\u001b[0m\u001b[0m\n\u001b[1;32m     24\u001b[0m             \u001b[0mdf\u001b[0m\u001b[0;34m[\u001b[0m\u001b[0;34m'low'\u001b[0m\u001b[0;34m]\u001b[0m\u001b[0;34m,\u001b[0m\u001b[0;34m\u001b[0m\u001b[0;34m\u001b[0m\u001b[0m\n",
      "\u001b[0;32m~/PycharmProjects/backtest_tools/backtest/single_coin/../../utilities/custom_indicators.py\u001b[0m in \u001b[0;36m__init__\u001b[0;34m(self, high, low, close, atr_window, atr_multi)\u001b[0m\n\u001b[1;32m    225\u001b[0m         \u001b[0mself\u001b[0m\u001b[0;34m.\u001b[0m\u001b[0matr_window\u001b[0m \u001b[0;34m=\u001b[0m \u001b[0matr_window\u001b[0m\u001b[0;34m\u001b[0m\u001b[0;34m\u001b[0m\u001b[0m\n\u001b[1;32m    226\u001b[0m         \u001b[0mself\u001b[0m\u001b[0;34m.\u001b[0m\u001b[0matr_multi\u001b[0m \u001b[0;34m=\u001b[0m \u001b[0matr_multi\u001b[0m\u001b[0;34m\u001b[0m\u001b[0;34m\u001b[0m\u001b[0m\n\u001b[0;32m--> 227\u001b[0;31m         \u001b[0mself\u001b[0m\u001b[0;34m.\u001b[0m\u001b[0m_run\u001b[0m\u001b[0;34m(\u001b[0m\u001b[0;34m)\u001b[0m\u001b[0;34m\u001b[0m\u001b[0;34m\u001b[0m\u001b[0m\n\u001b[0m\u001b[1;32m    228\u001b[0m \u001b[0;34m\u001b[0m\u001b[0m\n\u001b[1;32m    229\u001b[0m     \u001b[0;32mdef\u001b[0m \u001b[0m_run\u001b[0m\u001b[0;34m(\u001b[0m\u001b[0mself\u001b[0m\u001b[0;34m)\u001b[0m\u001b[0;34m:\u001b[0m\u001b[0;34m\u001b[0m\u001b[0;34m\u001b[0m\u001b[0m\n",
      "\u001b[0;32m~/PycharmProjects/backtest_tools/backtest/single_coin/../../utilities/custom_indicators.py\u001b[0m in \u001b[0;36m_run\u001b[0;34m(self)\u001b[0m\n\u001b[1;32m    266\u001b[0m                     \u001b[0mfinal_lowerband\u001b[0m\u001b[0;34m[\u001b[0m\u001b[0mcurr\u001b[0m\u001b[0;34m]\u001b[0m \u001b[0;34m=\u001b[0m \u001b[0mfinal_lowerband\u001b[0m\u001b[0;34m[\u001b[0m\u001b[0mprev\u001b[0m\u001b[0;34m]\u001b[0m\u001b[0;34m\u001b[0m\u001b[0;34m\u001b[0m\u001b[0m\n\u001b[1;32m    267\u001b[0m                 \u001b[0;32mif\u001b[0m \u001b[0msupertrend\u001b[0m\u001b[0;34m[\u001b[0m\u001b[0mcurr\u001b[0m\u001b[0;34m]\u001b[0m \u001b[0;34m==\u001b[0m \u001b[0;32mFalse\u001b[0m \u001b[0;32mand\u001b[0m \u001b[0mfinal_upperband\u001b[0m\u001b[0;34m[\u001b[0m\u001b[0mcurr\u001b[0m\u001b[0;34m]\u001b[0m \u001b[0;34m>\u001b[0m \u001b[0mfinal_upperband\u001b[0m\u001b[0;34m[\u001b[0m\u001b[0mprev\u001b[0m\u001b[0;34m]\u001b[0m\u001b[0;34m:\u001b[0m\u001b[0;34m\u001b[0m\u001b[0;34m\u001b[0m\u001b[0m\n\u001b[0;32m--> 268\u001b[0;31m                     \u001b[0mfinal_upperband\u001b[0m\u001b[0;34m[\u001b[0m\u001b[0mcurr\u001b[0m\u001b[0;34m]\u001b[0m \u001b[0;34m=\u001b[0m \u001b[0mfinal_upperband\u001b[0m\u001b[0;34m[\u001b[0m\u001b[0mprev\u001b[0m\u001b[0;34m]\u001b[0m\u001b[0;34m\u001b[0m\u001b[0;34m\u001b[0m\u001b[0m\n\u001b[0m\u001b[1;32m    269\u001b[0m \u001b[0;34m\u001b[0m\u001b[0m\n\u001b[1;32m    270\u001b[0m             \u001b[0;31m# to remove bands according to the trend direction\u001b[0m\u001b[0;34m\u001b[0m\u001b[0;34m\u001b[0m\u001b[0m\n",
      "\u001b[0;32m~/.pyenv/versions/3.10.0/envs/cbot/lib/python3.10/site-packages/pandas/core/series.py\u001b[0m in \u001b[0;36m__setitem__\u001b[0;34m(self, key, value)\u001b[0m\n\u001b[1;32m   1063\u001b[0m         \u001b[0;32mexcept\u001b[0m \u001b[0;34m(\u001b[0m\u001b[0mKeyError\u001b[0m\u001b[0;34m,\u001b[0m \u001b[0mValueError\u001b[0m\u001b[0;34m)\u001b[0m\u001b[0;34m:\u001b[0m\u001b[0;34m\u001b[0m\u001b[0;34m\u001b[0m\u001b[0m\n\u001b[1;32m   1064\u001b[0m             \u001b[0mvalues\u001b[0m \u001b[0;34m=\u001b[0m \u001b[0mself\u001b[0m\u001b[0;34m.\u001b[0m\u001b[0m_values\u001b[0m\u001b[0;34m\u001b[0m\u001b[0;34m\u001b[0m\u001b[0m\n\u001b[0;32m-> 1065\u001b[0;31m             \u001b[0;32mif\u001b[0m \u001b[0mis_integer\u001b[0m\u001b[0;34m(\u001b[0m\u001b[0mkey\u001b[0m\u001b[0;34m)\u001b[0m \u001b[0;32mand\u001b[0m \u001b[0mself\u001b[0m\u001b[0;34m.\u001b[0m\u001b[0mindex\u001b[0m\u001b[0;34m.\u001b[0m\u001b[0minferred_type\u001b[0m \u001b[0;34m!=\u001b[0m \u001b[0;34m\"integer\"\u001b[0m\u001b[0;34m:\u001b[0m\u001b[0;34m\u001b[0m\u001b[0;34m\u001b[0m\u001b[0m\n\u001b[0m\u001b[1;32m   1066\u001b[0m                 \u001b[0;31m# positional setter\u001b[0m\u001b[0;34m\u001b[0m\u001b[0;34m\u001b[0m\u001b[0m\n\u001b[1;32m   1067\u001b[0m                 \u001b[0mvalues\u001b[0m\u001b[0;34m[\u001b[0m\u001b[0mkey\u001b[0m\u001b[0;34m]\u001b[0m \u001b[0;34m=\u001b[0m \u001b[0mvalue\u001b[0m\u001b[0;34m\u001b[0m\u001b[0;34m\u001b[0m\u001b[0m\n",
      "\u001b[0;32m~/.pyenv/versions/3.10.0/envs/cbot/lib/python3.10/site-packages/pandas/core/indexes/datetimes.py\u001b[0m in \u001b[0;36minferred_type\u001b[0;34m(self)\u001b[0m\n\u001b[1;32m    839\u001b[0m     \u001b[0;31m# --------------------------------------------------------------------\u001b[0m\u001b[0;34m\u001b[0m\u001b[0;34m\u001b[0m\u001b[0m\n\u001b[1;32m    840\u001b[0m \u001b[0;34m\u001b[0m\u001b[0m\n\u001b[0;32m--> 841\u001b[0;31m     \u001b[0;34m@\u001b[0m\u001b[0mproperty\u001b[0m\u001b[0;34m\u001b[0m\u001b[0;34m\u001b[0m\u001b[0m\n\u001b[0m\u001b[1;32m    842\u001b[0m     \u001b[0;32mdef\u001b[0m \u001b[0minferred_type\u001b[0m\u001b[0;34m(\u001b[0m\u001b[0mself\u001b[0m\u001b[0;34m)\u001b[0m \u001b[0;34m->\u001b[0m \u001b[0mstr\u001b[0m\u001b[0;34m:\u001b[0m\u001b[0;34m\u001b[0m\u001b[0;34m\u001b[0m\u001b[0m\n\u001b[1;32m    843\u001b[0m         \u001b[0;31m# b/c datetime is represented as microseconds since the epoch, make\u001b[0m\u001b[0;34m\u001b[0m\u001b[0;34m\u001b[0m\u001b[0m\n",
      "\u001b[0;31mKeyboardInterrupt\u001b[0m: "
     ]
    }
   ],
   "source": [
    "dt = None\n",
    "dt = pd.DataFrame(columns = ['atr_window','atr_multiplier', 'short_ema_window', 'long_ema_window', 'result'])\n",
    "\n",
    "loopI = [1,20,1]\n",
    "enumI = ceil((loopI[1] - loopI[0]) / loopI[2])\n",
    "\n",
    "loopJ = [10,30,1]\n",
    "enumJ = ceil((loopJ[1] - loopJ[0]) / loopJ[2])\n",
    "\n",
    "loopK = [1,50,1]\n",
    "enumK = ceil((loopK[1] - loopK[0]) / loopK[2])\n",
    "\n",
    "loopL = [400,1000,10]\n",
    "enumL = ceil((loopL[1] - loopL[0]) / loopL[2])\n",
    "\n",
    "count = 0\n",
    "maxCount = enumI * enumJ * enumK * enumL\n",
    "\n",
    "for i in range(loopI[0], loopI[1], loopI[2]):\n",
    "    for j in range(loopJ[0], loopJ[1], loopJ[2]):\n",
    "        for k in range(loopK[0], loopK[1], loopK[2]):\n",
    "            for l in range(loopL[0], loopL[1], loopL[2]):\n",
    "                clear_output(wait=True)\n",
    "                count += 1\n",
    "                print(\"Loading...\",count,'/',maxCount)\n",
    "                \n",
    "                strat = super_reversion_strat(\n",
    "                    df = df.loc[:],\n",
    "                    st_short_atr_window=i,\n",
    "                    st_short_atr_multiplier=j,\n",
    "                    short_ema_window=k,\n",
    "                    long_ema_window=l\n",
    "                )\n",
    "\n",
    "                strat.populate_indicators()\n",
    "                strat.populate_buy_sell(show_log=False)\n",
    "                bt_result = strat.run_backtest(initial_wallet=1000, return_type=\"metrics\")\n",
    "                \n",
    "                print(bt_result['wallet'])\n",
    "                \n",
    "                myrow = {'atr_window': i, 'atr_multiplier': j, 'short_ema_window': k, 'long_ema_window': l,'result': bt_result['wallet']}\n",
    "                dt = dt.append(myrow,ignore_index=True)   \n",
    "# df_trades, df_days = basic_single_asset_backtest(trades=bt_result['trades'], days=bt_result['days'])\n",
    "# plot_wallet_vs_asset(df_days=df_days)\n",
    "print(dt.sort_values(by=['result']))\n",
    "# 1596.13"
   ]
  }
 ],
 "metadata": {
  "interpreter": {
   "hash": "1605aad4a20c628229361136c45b5c2fd25d9f03e009e573e496ccf3fb358d3b"
  },
  "kernelspec": {
   "display_name": "Python 3.10.2 ('.venv': venv)",
   "language": "python",
   "name": "python3"
  },
  "language_info": {
   "codemirror_mode": {
    "name": "ipython",
    "version": 3
   },
   "file_extension": ".py",
   "mimetype": "text/x-python",
   "name": "python",
   "nbconvert_exporter": "python",
   "pygments_lexer": "ipython3",
   "version": "3.10.0"
  },
  "orig_nbformat": 4
 },
 "nbformat": 4,
 "nbformat_minor": 2
}
